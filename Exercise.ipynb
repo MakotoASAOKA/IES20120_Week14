{
 "cells": [
  {
   "cell_type": "code",
   "execution_count": null,
   "metadata": {},
   "outputs": [],
   "source": [
    "#Read pokemon data\n",
    "dat <- read.csv(file=\"pokemon.csv\", header=TRUE, sep=\",\",fileEncoding=\"Shift-JIS\")\t#Read pokemon data(pokemon.csv)\n",
    "dat\t\t\t\t\t\t\t\t\t\t\t\t\t\t\t\t\t\t\t\t\t#Display pokemon data\n",
    "dat[25,]\t\t\t\t\t\t\t\t\t\t\t\t\t\t\t\t\t\t\t#Display 25th Pokemon\n",
    "summary(dat$Weight.kg)\t\t\t\t\t\t\t\t\t\t\t\t\t\t\t\t#Check the distribution of weight\n",
    "hist(dat$Weight.kg, breaks = 10)\t\t\t\t\t\t\t\t\t\t\t\t\t#Plot the distribution of weight"
   ]
  },
  {
   "cell_type": "code",
   "execution_count": null,
   "metadata": {},
   "outputs": [],
   "source": [
    "#Check the scatter plot\n",
    "dat1 <- subset(dat, select=c(HP, Attack, Defense, Weight.kg))\n",
    "plot(dat1)\t\t\t\t\t#scatter plot of HP, Attack, Deffence, and Weight"
   ]
  },
  {
   "cell_type": "code",
   "execution_count": null,
   "metadata": {},
   "outputs": [],
   "source": [
    "#Remove outliers\n",
    "filter <- dat1$HP<200 & dat1$Defense<200 & dat1$Weight.kg<600\n",
    "dat2 <- dat1[filter,]\n",
    "plot(dat2)"
   ]
  },
  {
   "cell_type": "code",
   "execution_count": null,
   "metadata": {},
   "outputs": [],
   "source": [
    "##multiple regresion analysis\n",
    "kaiki<- lm(Weight.kg~HP+Attack+Defense, data=dat2)\t#Use lm function\n",
    "zdat <- scale(dat2)\t\t\t\t\t\t\t\t\t#dstandardizing the data of ‘dat2’\n",
    "zdat <- data.frame(zdat)\t\t\t\t\t\t\t#Convert to a data frame for regression analysis\n",
    "zkaiki<- lm(Weight.kg~HP+Attack+Defense, data=zdat)\t#Regression analysis using standardized data\n",
    "#Output\n",
    "summary(kaiki)\t\t\t\t\t\t\t\t\t\t#Output partial regression coefficient\n",
    "summary(zkaiki)\t\t\t\t\t\t\t\t\t\t#Output standard partial regression coefficient"
   ]
  },
  {
   "cell_type": "code",
   "execution_count": null,
   "metadata": {},
   "outputs": [],
   "source": []
  }
 ],
 "metadata": {
  "kernelspec": {
   "display_name": "R",
   "language": "R",
   "name": "ir"
  },
  "language_info": {
   "codemirror_mode": "r",
   "file_extension": ".r",
   "mimetype": "text/x-r-source",
   "name": "R",
   "pygments_lexer": "r",
   "version": "3.5.1"
  }
 },
 "nbformat": 4,
 "nbformat_minor": 4
}
